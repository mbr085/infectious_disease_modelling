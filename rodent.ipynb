{
 "cells": [
  {
   "cell_type": "code",
   "execution_count": 1,
   "metadata": {
    "colab": {},
    "colab_type": "code",
    "id": "cUPFapW1XhAt"
   },
   "outputs": [],
   "source": [
    "from scipy.integrate import solve_ivp\n",
    "import numpy as np\n",
    "import matplotlib.pyplot as plt\n",
    "# %matplotlib inline \n",
    "# !pip install mpld3\n",
    "# import mpld3\n",
    "# mpld3.enable_notebook()"
   ]
  },
  {
   "cell_type": "code",
   "execution_count": 21,
   "metadata": {},
   "outputs": [],
   "source": [
    "def dydt_function(theta_L, theta_H, beta_L, beta_H, mu, alpha, gamma, delta):\n",
    "    def dydt(t, y):\n",
    "        N = np.sum(y[1:]) \n",
    "        RR, SH, SL, E, I, R = y\n",
    "        dRRdt = 0\n",
    "        dSHdt_no_mu = -(theta_H * RR + beta_H * I) * SH / N \n",
    "        dSLdt_no_mu = -(theta_L * RR + beta_L * I) * SL / N\n",
    "        dSHdt = dSHdt_no_mu - mu * SH\n",
    "        dSLdt = dSLdt_no_mu - mu * SL\n",
    "        dEdt = -(dSHdt_no_mu + dSLdt_no_mu + (alpha + mu) * E)\n",
    "        dIdt = alpha * E - (mu + delta + gamma) * I\n",
    "        dRdt = gamma * I - mu * R\n",
    "        return np.array([dRRdt, dSHdt, dSLdt, dEdt, dIdt, dRdt])\n",
    "    return dydt\n",
    "        \n",
    "        "
   ]
  },
  {
   "cell_type": "code",
   "execution_count": 38,
   "metadata": {},
   "outputs": [],
   "source": [
    "def rodent_solution(\n",
    "    theta_L=0.25,\n",
    "    theta_H=0.75,\n",
    "    beta_L=0.5,\n",
    "    beta_H=0.5,\n",
    "    mu=0.025,\n",
    "    alpha=0.1,\n",
    "    gamma=0.1,\n",
    "    delta=0.35,\n",
    "    RR0=1000,\n",
    "    SH0=100,  # Initially 999 susceptibel\n",
    "    SL0=900,  # Initially 999 susceptibel\n",
    "    E0=0,\n",
    "    I0=0,  # Initially  1 infected\n",
    "    R0=0,  # Initially 0 removed\n",
    "    end_day=50,\n",
    "    num_gridpoints=51\n",
    "):\n",
    "    y0 = [RR0, SH0, SL0, E0, I0, R0] \n",
    "    N = SH0 + SL0 + E0 + I0 + R0 \n",
    "    f = dydt_function(theta_L, theta_H, beta_L, beta_H, mu, alpha, gamma, delta)\n",
    "\n",
    "    return solve_ivp(\n",
    "        fun=f, \n",
    "        t_span=[0, end_day], \n",
    "        y0=y0,\n",
    "        t_eval=np.linspace(0, end_day, num_gridpoints))\n",
    "    "
   ]
  },
  {
   "cell_type": "code",
   "execution_count": 40,
   "metadata": {},
   "outputs": [],
   "source": [
    "ret = rodent_solution()"
   ]
  },
  {
   "cell_type": "code",
   "execution_count": 41,
   "metadata": {
    "colab": {},
    "colab_type": "code",
    "id": "CYkwiAeaYGgr"
   },
   "outputs": [],
   "source": [
    "def plotsir(ret):\n",
    "    t = ret.t\n",
    "    RR, SH, SL, E, I, R = ret.y\n",
    "    S = SH + SL\n",
    "    f, ax = plt.subplots(1,1,figsize=(10,4))\n",
    "    ax.plot(t, S, 'b', alpha=0.7, linewidth=2, label='Susceptible')\n",
    "    ax.plot(t, I, 'y', alpha=0.7, linewidth=2, label='Infected')\n",
    "    ax.plot(t, R, 'g', alpha=0.7, linewidth=2, label='Recovered')\n",
    "\n",
    "    ax.set_xlabel('Time (days)')\n",
    "\n",
    "    ax.yaxis.set_tick_params(length=0)\n",
    "    ax.xaxis.set_tick_params(length=0)\n",
    "    ax.grid(visible=True, which='major', c='w', lw=2, ls='-')\n",
    "    legend = ax.legend()\n",
    "    legend.get_frame().set_alpha(0.5)\n",
    "    for spine in ('top', 'right', 'bottom', 'left'):\n",
    "        ax.spines[spine].set_visible(False)\n"
   ]
  },
  {
   "cell_type": "code",
   "execution_count": 43,
   "metadata": {
    "colab": {
     "base_uri": "https://localhost:8080/",
     "height": 308
    },
    "colab_type": "code",
    "id": "Std7-P7OYIF9",
    "outputId": "906f43fe-f958-4563-891b-a1fbd6c103e6"
   },
   "outputs": [
    {
     "data": {
      "image/png": "[encoded data removed]",
      "text/plain": [
       "<Figure size 720x288 with 1 Axes>"
      ]
     },
     "metadata": {
      "needs_background": "light"
     },
     "output_type": "display_data"
    }
   ],
   "source": [
    "plotsir(rodent_solution(RR0=1, theta_L=0.001, mu=0.0001, end_day=200, num_gridpoints=100))"
   ]
  },
  {
   "cell_type": "code",
   "execution_count": 29,
   "metadata": {},
   "outputs": [
    {
     "data": {
      "text/plain": [
       "(6, 51)"
      ]
     },
     "execution_count": 29,
     "metadata": {},
     "output_type": "execute_result"
    }
   ],
   "source": [
    "ret.y.shape"
   ]
  },
  {
   "cell_type": "code",
   "execution_count": null,
   "metadata": {},
   "outputs": [],
   "source": []
  }
 ],
 "metadata": {
  "colab": {
   "authorship_tag": "ABX9TyNuwj97H9edfHXQaHvVlCdS",
   "include_colab_link": true,
   "name": "medium_modelling_part_one.ipynb",
   "provenance": []
  },
  "kernelspec": {
   "display_name": "Python 3 (ipykernel)",
   "language": "python",
   "name": "python3"
  },
  "language_info": {
   "codemirror_mode": {
    "name": "ipython",
    "version": 3
   },
   "file_extension": ".py",
   "mimetype": "text/x-python",
   "name": "python",
   "nbconvert_exporter": "python",
   "pygments_lexer": "ipython3",
   "version": "3.9.16"
  }
 },
 "nbformat": 4,
 "nbformat_minor": 4
}
